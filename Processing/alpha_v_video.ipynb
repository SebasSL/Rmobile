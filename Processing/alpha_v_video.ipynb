{
 "cells": [
  {
   "cell_type": "code",
   "execution_count": 1,
   "metadata": {},
   "outputs": [],
   "source": [
    "import cv2\n",
    "import numpy as np\n",
    "from matplotlib import pyplot as plt\n",
    "from skimage.measure import compare_ssim\n",
    "from os import listdir, path\n",
    "from tempfile import TemporaryFile\n",
    "import pymysql\n",
    "\n",
    "%matplotlib inline"
   ]
  },
  {
   "cell_type": "code",
   "execution_count": 2,
   "metadata": {},
   "outputs": [],
   "source": [
    "import pymysql\n",
    "\n",
    "\n",
    "def connect_db(sql,action):\n",
    "    \n",
    "    r=[]\n",
    "    if action == \"u\":\n",
    "        cursor.execute(sql)\n",
    "        db.commit()\n",
    "    if action == \"s\":\n",
    "        cursor.execute(sql)\n",
    "        results = cursor.fetchall()\n",
    "        for row in results:\n",
    "            r.append(row)\n",
    "        return r\n",
    "\n",
    "db = pymysql.connect(\"localhost\",\"Sebrm\",\"sebrm\",\"Rumbomobile\")\n",
    "cursor = db.cursor()\n"
   ]
  },
  {
   "cell_type": "code",
   "execution_count": 3,
   "metadata": {},
   "outputs": [],
   "source": [
    "def obtain_pklots(entry,coords,coordsX,coordsY):\n",
    "    masks = []\n",
    "    image = entry\n",
    "    for i in range(len(coords)):\n",
    "        ROI_corners = np.array([coords[i].tolist()], dtype=np.int32) \n",
    "        mask = np.zeros(image.shape, dtype=np.uint8)\n",
    "        cv2.fillPoly(mask, ROI_corners, (255))\n",
    "        masked_image = cv2.bitwise_and(image, mask)\n",
    "        masked_image = masked_image[np.min(coordsY[i]):np.max(coordsY[i]),np.min(coordsX[i]):np.max(coordsX[i])]\n",
    "        masks.append(masked_image)\n",
    "    return masks"
   ]
  },
  {
   "cell_type": "code",
   "execution_count": 4,
   "metadata": {},
   "outputs": [],
   "source": [
    "def read_images(path):\n",
    "    img_list   = {}\n",
    "    img_clist  = {}\n",
    "    files_imgs = sorted(listdir(path))\n",
    "    cont       = 0\n",
    "#     print(files_imgs)\n",
    "    for i in files_imgs:\n",
    "        img_clist[str(cont)] = cv2.imread(path+'/'+i,cv2.IMREAD_COLOR)\n",
    "        img_list[str(cont)] = cv2.imread(path+'/'+i,cv2.IMREAD_GRAYSCALE)\n",
    "        cont = cont + 1\n",
    "    \n",
    "    return [img_list,img_clist]"
   ]
  },
  {
   "cell_type": "code",
   "execution_count": 5,
   "metadata": {},
   "outputs": [],
   "source": [
    "def compare(pklot_empty,pklot_ref,pklot_new,state_old):\n",
    "    scores     = []\n",
    "    scores_emp = []\n",
    "    bck_diff   = []\n",
    "    stat       = []\n",
    "    for i in range(len(pklot_ref)): \n",
    "        \n",
    "        img_emp = pklot_empty[i]\n",
    "        img_A   = pklot_ref[i]\n",
    "        img_B   = pklot_new[i]\n",
    "\n",
    "        bck_diff.append(img_B-img_A)\n",
    "\n",
    "        \n",
    "        (score_emp,_) = compare_ssim(img_emp, img_B, full=True)\n",
    "        (score,_)     = compare_ssim(img_A, img_B, full=True)\n",
    "        score         = np.float32(score)\n",
    "        \n",
    "        scores.append(score)\n",
    "        scores_emp.append(score_emp)\n",
    "        \n",
    "        if score > 0.65 :\n",
    "            stat.append(state_old[i])\n",
    "        else:\n",
    "            \n",
    "            if state_old[i] == \"occupied\":\n",
    "                if score_emp < 0.6:\n",
    "                    stat.append(\"occupied\")\n",
    "                else:\n",
    "                    stat.append(\"empty\")\n",
    "            else:\n",
    "                stat.append(\"occupied\")\n",
    "                \n",
    "    \n",
    "    \n",
    "    return [scores_emp,scores,stat]"
   ]
  },
  {
   "cell_type": "code",
   "execution_count": 47,
   "metadata": {},
   "outputs": [],
   "source": [
    "def show_pklots(img_color,coords,state):\n",
    "    \n",
    "    \n",
    "    for i in range(len(coords)):\n",
    "        if state[i] == \"empty\":\n",
    "            color = (0,255,0)\n",
    "        else:\n",
    "            color = (0,0,255)\n",
    "#         cv2.line(img_color, coords[i][3], coords[i][0], color, thickness=2, lineType=8, shift=0)\n",
    "#         cv2.line(img_color, coords[i][0], coords[i][1], color, thickness=2, lineType=8, shift=0)\n",
    "#         cv2.line(img_color, coords[i][1], coords[i][2], color, thickness=2, lineType=8, shift=0)\n",
    "#         cv2.line(img_color, coords[i][2], coords[i][3], color, thickness=2, lineType=8, shift=0)\n",
    "        font = cv2.FONT_HERSHEY_SIMPLEX\n",
    "\n",
    "        cv2.putText(img_color,str(i),coords[i][0], font, 1,color,2,cv2.LINE_AA)\n",
    "\n",
    "#     plt.figure(figsize=(16,16))\n",
    "#     plt.imshow(img_color)\n",
    "#     plt.show()\n",
    "    return img_color"
   ]
  },
  {
   "cell_type": "code",
   "execution_count": 8,
   "metadata": {},
   "outputs": [
    {
     "data": {
      "text/plain": [
       "72"
      ]
     },
     "execution_count": 8,
     "metadata": {},
     "output_type": "execute_result"
    }
   ],
   "source": [
    "sql = \"SELECT * FROM virtualpklot1\"\n",
    "data = connect_db(sql,\"s\")\n",
    "len(data)"
   ]
  },
  {
   "cell_type": "code",
   "execution_count": 9,
   "metadata": {},
   "outputs": [],
   "source": [
    "coordsX=[]\n",
    "b=[coordsX.append(data[i][1].split(\",\")) for i in range(len(data))]\n",
    "coordsY=[]\n",
    "b=[coordsY.append(data[i][2].split(\",\")) for i in range(len(data))]\n",
    "\n",
    "coordsX = np.float32(coordsX)\n",
    "coordsY = np.float32(coordsY)\n",
    "coords = np.zeros(coordsX.shape,dtype = tuple)\n",
    "coords_mag = np.sqrt(coordsX**2 + coordsY**2)\n",
    "coords_mag.sort()\n",
    "minmag = coords_mag[:,0]\n",
    "maxmag = coords_mag[:,3]\n",
    "\n",
    "for i in range(len(coordsX)):\n",
    "    k = 1\n",
    "    for j in range(len(coordsX[1])):\n",
    "        \n",
    "        if (np.abs(np.sqrt(coordsX[i][j]**2 + coordsY[i][j]**2) - minmag[i]) <=0.01):\n",
    "            coords[i][0]=(coordsX[i][j],coordsY[i][j])\n",
    "        elif (np.abs(np.sqrt(coordsX[i][j]**2 + coordsY[i][j]**2) - maxmag[i]) <=0.01):\n",
    "            coords[i][2]=(coordsX[i][j],coordsY[i][j])\n",
    "        else:\n",
    "            coords[i][k]=(coordsX[i][j],coordsY[i][j])\n",
    "            k = k + 2\n",
    "        \n",
    "            \n",
    "coords.tolist();\n",
    "coordsX = np.uint16(coordsX)\n",
    "coordsY = np.uint16(coordsY)"
   ]
  },
  {
   "cell_type": "code",
   "execution_count": 76,
   "metadata": {},
   "outputs": [],
   "source": [
    "def detect(img,ind,pklot_old,state):\n",
    "    \n",
    "    gray = cv2.cvtColor(img, cv2.COLOR_BGR2GRAY)\n",
    "    \n",
    "    pklot_new = obtain_pklots(gray,coords,coordsX,coordsY)\n",
    "    comp_e,comp,temp = compare(pklot_empty,pklot_old,pklot_new,state[ind])\n",
    "    state = temp\n",
    "    \n",
    "    return state,pklot_new"
   ]
  },
  {
   "cell_type": "code",
   "execution_count": 77,
   "metadata": {},
   "outputs": [],
   "source": [
    "init = cv2.imread('alpha_test/Moment_0.jpg',cv2.IMREAD_GRAYSCALE)\n",
    "c_state=[]\n",
    "pklot_empty = obtain_pklots(init,coords,coordsX,coordsY)\n",
    "pklot_new = obtain_pklots(init,coords,coordsX,coordsY)\n",
    "state = []\n",
    "comp = []\n",
    "ms = []\n",
    "bck_diff = []\n",
    "for i in range(len(pklot_empty)): \n",
    "\n",
    "    img_A = pklot_empty[i]\n",
    "    img_B = pklot_new[i]\n",
    "    \n",
    "    bck_diff.append(img_B-img_A)\n",
    "    \n",
    "    (score, diff) = compare_ssim(img_A, img_B, full=True)\n",
    "    comp.append(score)\n",
    "    \n",
    "comp = np.float32(comp)\n",
    "# print(compare)\n",
    "meh2= (comp>0.5)\n",
    "# print(compare)\n",
    "# print(meh2)\n",
    "old_state = []\n",
    "for i in range(len(meh2)):\n",
    "    if meh2[i]:\n",
    "        old_state.append(\"empty\")\n",
    "    else:\n",
    "        old_state.append(\"occupied\")\n",
    "        \n",
    "pklot_old = pklot_new\n",
    "c_state.append(old_state)\n",
    "old_state = c_state"
   ]
  },
  {
   "cell_type": "code",
   "execution_count": 78,
   "metadata": {},
   "outputs": [],
   "source": [
    "cap = cv2.VideoCapture('alpha_test/pklotest.mp4')\n",
    "ind = 0\n",
    "\n",
    "fourcc = cv2.VideoWriter_fourcc(*'DIVX')\n",
    "out = cv2.VideoWriter('output.avi',fourcc, 20.0, (1920,1080))\n",
    "\n",
    "while(cap.isOpened()):\n",
    "    ret, frame = cap.read()\n",
    "    \n",
    "    c_state,pklot = detect(frame,ind,pklot_old,old_state)\n",
    "    \n",
    "    p = show_pklots(frame,coords,c_state)\n",
    "    \n",
    "    pklot_old = pklot\n",
    "    old_state.append(c_state)\n",
    "    out.write(p)\n",
    "    cv2.imshow('frame',p)\n",
    "    ind = ind + 1\n",
    "    if cv2.waitKey(1) & 0xFF == ord('q'):\n",
    "        break\n",
    "\n",
    "cap.release()\n",
    "out.release()\n",
    "cv2.destroyAllWindows()"
   ]
  },
  {
   "cell_type": "code",
   "execution_count": 79,
   "metadata": {},
   "outputs": [
    {
     "data": {
      "text/plain": [
       "1542"
      ]
     },
     "execution_count": 79,
     "metadata": {},
     "output_type": "execute_result"
    }
   ],
   "source": [
    "len(old_state)"
   ]
  },
  {
   "cell_type": "code",
   "execution_count": 29,
   "metadata": {},
   "outputs": [
    {
     "data": {
      "text/plain": [
       "72"
      ]
     },
     "execution_count": 29,
     "metadata": {},
     "output_type": "execute_result"
    }
   ],
   "source": [
    "len(coords)"
   ]
  },
  {
   "cell_type": "code",
   "execution_count": 30,
   "metadata": {},
   "outputs": [
    {
     "data": {
      "text/plain": [
       "1"
      ]
     },
     "execution_count": 30,
     "metadata": {},
     "output_type": "execute_result"
    }
   ],
   "source": [
    "len(c_state)"
   ]
  },
  {
   "cell_type": "code",
   "execution_count": 51,
   "metadata": {},
   "outputs": [
    {
     "data": {
      "text/plain": [
       "694"
      ]
     },
     "execution_count": 51,
     "metadata": {},
     "output_type": "execute_result"
    }
   ],
   "source": [
    "len(old_state)"
   ]
  },
  {
   "cell_type": "code",
   "execution_count": 7,
   "metadata": {},
   "outputs": [
    {
     "name": "stdout",
     "output_type": "stream",
     "text": [
      "2195.0\n"
     ]
    }
   ],
   "source": [
    "cap = cv2.VideoCapture('alpha_test/pklotest.mp4')\n",
    "print(cap.get(cv2.CAP_PROP_FRAME_COUNT))\n",
    "\n",
    "while(cap.isOpened()):\n",
    "    ret, frame = cap.read()\n",
    "\n",
    "    gray = cv2.cvtColor(frame, cv2.COLOR_BGR2GRAY)\n",
    "\n",
    "    cv2.imshow('frame',gray)\n",
    "    if cv2.waitKey(1) & 0xFF == ord('q'):\n",
    "        break\n",
    "\n",
    "cap.release()\n",
    "cv2.destroyAllWindows()"
   ]
  },
  {
   "cell_type": "code",
   "execution_count": null,
   "metadata": {},
   "outputs": [],
   "source": [
    "cap.get(CV_CAP_PROP_FRAME_COUNT)"
   ]
  }
 ],
 "metadata": {
  "kernelspec": {
   "display_name": "Python 3",
   "language": "python",
   "name": "python3"
  },
  "language_info": {
   "codemirror_mode": {
    "name": "ipython",
    "version": 3
   },
   "file_extension": ".py",
   "mimetype": "text/x-python",
   "name": "python",
   "nbconvert_exporter": "python",
   "pygments_lexer": "ipython3",
   "version": "3.7.1"
  }
 },
 "nbformat": 4,
 "nbformat_minor": 2
}
